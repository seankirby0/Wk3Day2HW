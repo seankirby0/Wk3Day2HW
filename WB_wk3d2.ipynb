{
 "cells": [
  {
   "cell_type": "code",
   "execution_count": null,
   "id": "e0671840",
   "metadata": {},
   "outputs": [],
   "source": [
    "# You must implement a function that return the difference between the biggest and the smallest value in a list(lst) \n",
    "#    received as parameter.\n",
    "# The list(lst) contains integers, that means it may contain some negative numbers.\n",
    "# If the list is empty or contains a single element, return 0.\n",
    "# The list(lst) is not sorted.\n",
    "# max_diff([1, 2, 3, 4]) # return 3, because 4 - 1 == 3\n",
    "# max_diff([1, 2, 3, -4]) # return 7, because 3 - (-4) == 7"
   ]
  },
  {
   "cell_type": "code",
   "execution_count": 14,
   "id": "16f8ec1f",
   "metadata": {},
   "outputs": [
    {
     "data": {
      "text/plain": [
       "4"
      ]
     },
     "execution_count": 14,
     "metadata": {},
     "output_type": "execute_result"
    }
   ],
   "source": [
    "def difference(lst):\n",
    "    \n",
    "    if lst == []:\n",
    "        return(0)\n",
    "    \n",
    "    num = max(lst)\n",
    "    num1 = min(lst)\n",
    "\n",
    "\n",
    "\n",
    "    return num - num1\n",
    "\n",
    "\n",
    "difference([1, 2, 5])"
   ]
  },
  {
   "cell_type": "code",
   "execution_count": null,
   "id": "dae167f1",
   "metadata": {},
   "outputs": [],
   "source": []
  }
 ],
 "metadata": {
  "kernelspec": {
   "display_name": "Python 3",
   "language": "python",
   "name": "python3"
  },
  "language_info": {
   "codemirror_mode": {
    "name": "ipython",
    "version": 3
   },
   "file_extension": ".py",
   "mimetype": "text/x-python",
   "name": "python",
   "nbconvert_exporter": "python",
   "pygments_lexer": "ipython3",
   "version": "3.8.8"
  }
 },
 "nbformat": 4,
 "nbformat_minor": 5
}
